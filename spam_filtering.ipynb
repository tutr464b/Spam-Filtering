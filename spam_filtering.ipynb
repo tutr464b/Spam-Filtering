{
  "nbformat": 4,
  "nbformat_minor": 0,
  "metadata": {
    "colab": {
      "name": "main.ipynb",
      "provenance": [],
      "authorship_tag": "ABX9TyOxLBHsGUruKAPUlopjGPNJ",
      "include_colab_link": true
    },
    "kernelspec": {
      "name": "python3",
      "display_name": "Python 3"
    },
    "language_info": {
      "name": "python"
    }
  },
  "cells": [
    {
      "cell_type": "markdown",
      "metadata": {
        "id": "view-in-github",
        "colab_type": "text"
      },
      "source": [
        "<a href=\"https://colab.research.google.com/github/tutr464b/Spam-Filtering/blob/main/spam_filtering.ipynb\" target=\"_parent\"><img src=\"https://colab.research.google.com/assets/colab-badge.svg\" alt=\"Open In Colab\"/></a>"
      ]
    },
    {
      "cell_type": "code",
      "execution_count": 1,
      "metadata": {
        "colab": {
          "base_uri": "https://localhost:8080/"
        },
        "id": "nUjUonn8aSz6",
        "outputId": "6ee0ca2e-14dc-47d8-fc59-23559b6b5d4f"
      },
      "outputs": [
        {
          "output_type": "stream",
          "name": "stdout",
          "text": [
            "--2021-12-27 21:36:37--  https://cloudstore.zih.tu-dresden.de/index.php/s/33N8STmyGMLi4NE/download\n",
            "Resolving cloudstore.zih.tu-dresden.de (cloudstore.zih.tu-dresden.de)... 141.30.62.64\n",
            "Connecting to cloudstore.zih.tu-dresden.de (cloudstore.zih.tu-dresden.de)|141.30.62.64|:443... connected.\n",
            "HTTP request sent, awaiting response... 200 OK\n",
            "Length: 477907 (467K) [application/octet-stream]\n",
            "Saving to: ‘sms_spam.txt’\n",
            "\n",
            "sms_spam.txt        100%[===================>] 466.71K   875KB/s    in 0.5s    \n",
            "\n",
            "2021-12-27 21:36:38 (875 KB/s) - ‘sms_spam.txt’ saved [477907/477907]\n",
            "\n"
          ]
        }
      ],
      "source": [
        "#load data, which is given by TU Dresden\n",
        "!wget https://cloudstore.zih.tu-dresden.de/index.php/s/33N8STmyGMLi4NE/download -O sms_spam.txt"
      ]
    },
    {
      "cell_type": "code",
      "source": [
        "#preview the data\n",
        "with open('sms_spam.txt') as f:\n",
        "  line = f.read()\n",
        "  print(line[:5000])"
      ],
      "metadata": {
        "colab": {
          "base_uri": "https://localhost:8080/"
        },
        "id": "RRhoeOVOabWI",
        "outputId": "bc13ab00-38d4-4902-d9e1-e63bc550435f"
      },
      "execution_count": 37,
      "outputs": [
        {
          "output_type": "stream",
          "name": "stdout",
          "text": [
            "ham\tGo until jurong point, crazy.. Available only in bugis n great world la e buffet... Cine there got amore wat...\n",
            "ham\tOk lar... Joking wif u oni...\n",
            "spam\tFree entry in 2 a wkly comp to win FA Cup final tkts 21st May 2005. Text FA to 87121 to receive entry question(std txt rate)T&C's apply 08452810075over18's\n",
            "ham\tU dun say so early hor... U c already then say...\n",
            "ham\tNah I don't think he goes to usf, he lives around here though\n",
            "spam\tFreeMsg Hey there darling it's been 3 week's now and no word back! I'd like some fun you up for it still? Tb ok! XxX std chgs to send, £1.50 to rcv\n",
            "ham\tEven my brother is not like to speak with me. They treat me like aids patent.\n",
            "ham\tAs per your request 'Melle Melle (Oru Minnaminunginte Nurungu Vettam)' has been set as your callertune for all Callers. Press *9 to copy your friends Callertune\n",
            "spam\tWINNER!! As a valued network customer you have been selected to receivea £900 prize reward! To claim call 09061701461. Claim code KL341. Valid 12 hours only.\n",
            "spam\tHad your mobile 11 months or more? U R entitled to Update to the latest colour mobiles with camera for Free! Call The Mobile Update Co FREE on 08002986030\n",
            "ham\tI'm gonna be home soon and i don't want to talk about this stuff anymore tonight, k? I've cried enough today.\n",
            "spam\tSIX chances to win CASH! From 100 to 20,000 pounds txt> CSH11 and send to 87575. Cost 150p/day, 6days, 16+ TsandCs apply Reply HL 4 info\n",
            "spam\tURGENT! You have won a 1 week FREE membership in our £100,000 Prize Jackpot! Txt the word: CLAIM to No: 81010 T&C www.dbuk.net LCCLTD POBOX 4403LDNW1A7RW18\n",
            "ham\tI've been searching for the right words to thank you for this breather. I promise i wont take your help for granted and will fulfil my promise. You have been wonderful and a blessing at all times.\n",
            "ham\tI HAVE A DATE ON SUNDAY WITH WILL!!\n",
            "spam\tXXXMobileMovieClub: To use your credit, click the WAP link in the next txt message or click here>> http://wap. xxxmobilemovieclub.com?n=QJKGIGHJJGCBL\n",
            "ham\tOh k...i'm watching here:)\n",
            "ham\tEh u remember how 2 spell his name... Yes i did. He v naughty make until i v wet.\n",
            "ham\tFine if thats the way u feel. Thats the way its gota b\n",
            "spam\tEngland v Macedonia - dont miss the goals/team news. Txt ur national team to 87077 eg ENGLAND to 87077 Try:WALES, SCOTLAND 4txt/ú1.20 POBOXox36504W45WQ 16+\n",
            "ham\tIs that seriously how you spell his name?\n",
            "ham\tI‘m going to try for 2 months ha ha only joking\n",
            "ham\tSo ü pay first lar... Then when is da stock comin...\n",
            "ham\tAft i finish my lunch then i go str down lor. Ard 3 smth lor. U finish ur lunch already?\n",
            "ham\tFfffffffff. Alright no way I can meet up with you sooner?\n",
            "ham\tJust forced myself to eat a slice. I'm really not hungry tho. This sucks. Mark is getting worried. He knows I'm sick when I turn down pizza. Lol\n",
            "ham\tLol your always so convincing.\n",
            "ham\tDid you catch the bus ? Are you frying an egg ? Did you make a tea? Are you eating your mom's left over dinner ? Do you feel my Love ?\n",
            "ham\tI'm back &amp; we're packing the car now, I'll let you know if there's room\n",
            "ham\tAhhh. Work. I vaguely remember that! What does it feel like? Lol\n",
            "ham\tWait that's still not all that clear, were you not sure about me being sarcastic or that that's why x doesn't want to live with us\n",
            "ham\tYeah he got in at 2 and was v apologetic. n had fallen out and she was actin like spoilt child and he got caught up in that. Till 2! But we won't go there! Not doing too badly cheers. You? \n",
            "ham\tK tell me anything about you.\n",
            "ham\tFor fear of fainting with the of all that housework you just did? Quick have a cuppa\n",
            "spam\tThanks for your subscription to Ringtone UK your mobile will be charged £5/month Please confirm by replying YES or NO. If you reply NO you will not be charged\n",
            "ham\tYup... Ok i go home look at the timings then i msg ü again... Xuhui going to learn on 2nd may too but her lesson is at 8am\n",
            "ham\tOops, I'll let you know when my roommate's done\n",
            "ham\tI see the letter B on my car\n",
            "ham\tAnything lor... U decide...\n",
            "ham\tHello! How's you and how did saturday go? I was just texting to see if you'd decided to do anything tomo. Not that i'm trying to invite myself or anything!\n",
            "ham\tPls go ahead with watts. I just wanted to be sure. Do have a great weekend. Abiola\n",
            "ham\tDid I forget to tell you ? I want you , I need you, I crave you ... But most of all ... I love you my sweet Arabian steed ... Mmmmmm ... Yummy\n",
            "spam\t07732584351 - Rodger Burns - MSG = We tried to call you re your reply to our sms for a free nokia mobile + free camcorder. Please call now 08000930705 for delivery tomorrow\n",
            "ham\tWHO ARE YOU SEEING?\n",
            "ham\tGreat! I hope you like your man well endowed. I am  &lt;#&gt;  inches...\n",
            "ham\tNo calls..messages..missed calls\n",
            "ham\tDidn't you get hep b immunisation in nigeria.\n",
            "ham\tFair enough, anything going on?\n",
            "ham\tYeah hopefully, if tyler can't do it I could maybe ask around a bit\n",
            "ham\tU don't know how stubborn I am. I didn't even want to go to the hospital. I kept telling Mark I'm not a weak sucker. Hospitals are for weak suckers.\n",
            "ham\tWhat you thinked about me. \n"
          ]
        }
      ]
    },
    {
      "cell_type": "code",
      "source": [
        "from collections import defaultdict\n",
        "from tabulate import tabulate\n",
        "import random\n",
        "#import important libraries "
      ],
      "metadata": {
        "id": "QqdSTglMa_yh"
      },
      "execution_count": 3,
      "outputs": []
    },
    {
      "cell_type": "code",
      "source": [
        "data = [line.split(\"\\t\") for line in open(\"sms_spam.txt\")]\n",
        "random.shuffle(data) #shuffle the data\n",
        "upto = int(len(data)*0.8)\n",
        "training_data, test_data = data[:upto], data[upto:]\n",
        "#split the data to train and test data "
      ],
      "metadata": {
        "id": "4FsHOEEii8VS"
      },
      "execution_count": 4,
      "outputs": []
    },
    {
      "cell_type": "code",
      "source": [
        "labels = [label for label, msg in training_data]\n",
        "n_ham = labels.count(\"ham\")\n",
        "n_spam = labels.count(\"spam\")\n",
        "p_ham = float(n_ham)/len(labels)\n",
        "p_spam = float(n_spam)/len(labels)"
      ],
      "metadata": {
        "id": "YbNx2DjqjuWf"
      },
      "execution_count": 5,
      "outputs": []
    },
    {
      "cell_type": "code",
      "source": [
        "def msgToWords(msg):\n",
        "  return set(msg.split())"
      ],
      "metadata": {
        "id": "j5ECd7SCkMaC"
      },
      "execution_count": 6,
      "outputs": []
    },
    {
      "cell_type": "code",
      "source": [
        "ham, spam = defaultdict(int), defaultdict(int)\n",
        "for label, msg in training_data:\n",
        "  for word in msgToWords(msg):\n",
        "    if label == \"ham\":\n",
        "      ham[word] += 1\n",
        "    else:\n",
        "      spam[word] += 1\n",
        "n_voc = len(set(list(ham.keys())+list(spam.keys())))"
      ],
      "metadata": {
        "id": "iwFs2MUBkWJ3"
      },
      "execution_count": 7,
      "outputs": []
    },
    {
      "cell_type": "code",
      "source": [
        "#calculate posibility\n",
        "def predict(msg):\n",
        "  p_msg_ham = 1.0 #to make sure it is type double\n",
        "  p_msg_spam = 1.0\n",
        "  for word in msgToWords(msg):\n",
        "    p_msg_ham *= (ham[word] + 1) / (n_ham + n_voc)\n",
        "    p_msg_spam *= (spam[word] + 1) / (n_spam + n_voc)\n",
        "  if p_msg_ham * p_ham >= p_msg_spam * p_spam:\n",
        "    return \"ham\"\n",
        "  return \"spam\" "
      ],
      "metadata": {
        "id": "YOTcvPx-k-WI"
      },
      "execution_count": 9,
      "outputs": []
    },
    {
      "cell_type": "markdown",
      "source": [
        "the formal is the Laplace-smoothing. The plus 1 is to make it always different from 0"
      ],
      "metadata": {
        "id": "KQSxN_4302py"
      }
    },
    {
      "cell_type": "code",
      "source": [
        "#predict spam or ham based on accuracy\n",
        "tp, fp, tn, fn = 0.0, 0.0, 0.0, 0.0\n",
        "for label, msg in test_data:\n",
        "  predicted = predict(msg)\n",
        "  if label == \"spam\" and predicted == \"spam\":\n",
        "    tp += 1\n",
        "  elif label == \"ham\" and predicted == \"spam\":\n",
        "    fp += 1\n",
        "  elif label == \"ham\" and predicted == \"ham\":\n",
        "    tn += 1\n",
        "  elif label == \"spam\" and predicted == \"ham\":\n",
        "    fn += 1\n",
        "precision = tp/(tp+fp)\n",
        "recall = tp/(tp+fn)\n",
        "accuracy = (tp+tn)/(tp+fp+tn+fn)\n",
        "\n",
        "print(\"There are {} ({}%) ham and {} ({}%) spam SMS.\".format(n_ham, round(p_ham*100, 1), n_spam, round(p_spam*100, 1)))\n",
        "print(\"Precision is {}, recall {}, and accuracy {}\".format(round(precision, 2), round(recall, 2), round(accuracy, 2)))"
      ],
      "metadata": {
        "colab": {
          "base_uri": "https://localhost:8080/"
        },
        "id": "YSX8FN2MqRmD",
        "outputId": "9057bdb1-98db-4e1c-9119-911108d62e1e"
      },
      "execution_count": 10,
      "outputs": [
        {
          "output_type": "stream",
          "name": "stdout",
          "text": [
            "There are 3878 (87.0%) ham and 581 (13.0%) spam SMS.\n",
            "Precision is 0.99, recall 0.72, and accuracy 0.96\n"
          ]
        }
      ]
    },
    {
      "cell_type": "code",
      "source": [
        "from tabulate import tabulate\n",
        "import random\n",
        "\n",
        "example = []\n",
        "for row in random.sample(data, 10):\n",
        "  example.append(row)\n",
        "print(\"\\n10 randomly selected example messages:\")\n",
        "print(tabulate(example))"
      ],
      "metadata": {
        "id": "ZQymIsI8qTMB",
        "colab": {
          "base_uri": "https://localhost:8080/"
        },
        "outputId": "9d71bb00-6f3a-48e1-e007-a19554159b17"
      },
      "execution_count": 14,
      "outputs": [
        {
          "output_type": "stream",
          "name": "stdout",
          "text": [
            "\n",
            "10 randomly selected example messages:\n",
            "----  ------------------------------------------------------------------------------------------------------------------------------------------------------------\n",
            "ham   Congrats. That's great. I wanted to tell you not to tell me your score cos it might make me relax. But its motivating me so thanks for sharing\n",
            "ham   No message..no responce..what happend?\n",
            "spam  Sunshine Quiz Wkly Q! Win a top Sony DVD player if u know which country the Algarve is in? Txt ansr to 82277. £1.50 SP:Tyrone\n",
            "ham   Am only searching for good dual sim mobile pa.\n",
            "ham   Your opinion about me? 1. Over 2. Jada 3. Kusruthi 4. Lovable 5. Silent 6. Spl character 7. Not matured 8. Stylish 9. Simple Pls reply..\n",
            "ham   Ü called dad oredi...\n",
            "ham   Hello lover! How goes that new job? Are you there now? Are you happy? Do you think of me? I wake, my slave and send you a teasing kiss from across the sea\n",
            "ham   Haha, my friend tyler literally just asked if you could get him a dubsack\n",
            "spam  Our records indicate u maybe entitled to 5000 pounds in compensation for the Accident you had. To claim 4 free reply with CLAIM to this msg. 2 stop txt STOP\n",
            "ham   Lol! Oops sorry! Have fun.\n",
            "----  ------------------------------------------------------------------------------------------------------------------------------------------------------------\n"
          ]
        }
      ]
    },
    {
      "cell_type": "code",
      "source": [
        "print('Frequent ham words:')\n",
        "for (word, freq) in sorted(ham.items(), key= lambda x:x[1], reverse=True)[:20]:\n",
        "  print(word, end=\" \")\n",
        "print(\"\\n\")\n",
        "print('Frequent spam words:')\n",
        "for (word, freq) in sorted(spam.items(), key= lambda x:x[1], reverse=True)[:20]:\n",
        "  print(word, end=\" \")\n",
        "print(\"\\n\")\n",
        "\n",
        "common = set(ham.keys()).intersection(set(spam.keys()))\n",
        "print(\"spam has %d words and ham has %d. They have %d in common\"%(len(spam.keys()), len(ham.keys()), len(common)))\n",
        "print(\"Frequent words in common:\")\n",
        "for word in sorted(common, key = lambda x:spam[x]+ham[x], reverse = True)[:20]:\n",
        "  print(word, end = \" \")\n",
        "\n"
      ],
      "metadata": {
        "colab": {
          "base_uri": "https://localhost:8080/"
        },
        "id": "gUag-QLs1lca",
        "outputId": "99633f52-f234-41ff-daed-2820eb4eecd3"
      },
      "execution_count": 27,
      "outputs": [
        {
          "output_type": "stream",
          "name": "stdout",
          "text": [
            "Frequent ham words:\n",
            "to I you the a in i and is my me u for of that your on it have at \n",
            "\n",
            "Frequent spam words:\n",
            "to a call or your the for you 2 is Call have from on with and of ur & 4 \n",
            "\n",
            "spam has 7907 words and ham has 13732. They have 5906 in common\n",
            "Frequent words in common:\n",
            "to you I a the in and is i for my u of me your on have 2 that or "
          ]
        }
      ]
    },
    {
      "cell_type": "code",
      "source": [
        "import matplotlib.pyplot as plt"
      ],
      "metadata": {
        "id": "eZLvSYVW5GXy"
      },
      "execution_count": 28,
      "outputs": []
    },
    {
      "cell_type": "code",
      "source": [
        "plt.plot(sorted(ham.values(), reverse = True)[0:], label=\"ham\")\n",
        "plt.plot(sorted(spam.values(), reverse = True)[0:], label=\"spam\")\n",
        "plt.ylabel('Frequency')\n",
        "plt.xlabel(\"Word frequency\")\n",
        "plt.legend()\n",
        "plt.show()"
      ],
      "metadata": {
        "colab": {
          "base_uri": "https://localhost:8080/",
          "height": 282
        },
        "id": "RDr_fPVj8M9k",
        "outputId": "969f2f57-9828-4a47-fc10-f20b4fac1655"
      },
      "execution_count": 31,
      "outputs": [
        {
          "output_type": "display_data",
          "data": {
            "image/png": "[encoded data removed]",
            "text/plain": [
              "<Figure size 432x288 with 1 Axes>"
            ]
          },
          "metadata": {
            "needs_background": "light"
          }
        }
      ]
    },
    {
      "cell_type": "markdown",
      "source": [
        "check the frequency of two words continuously"
      ],
      "metadata": {
        "id": "wHFVa2RnD2Tb"
      }
    },
    {
      "cell_type": "code",
      "source": [
        "cooc = defaultdict(int)\n",
        "for [label, msg] in data:\n",
        "   words = msg.split()\n",
        "   for i in range(len(words)-1):\n",
        "     cooc[(words[i], words[i+1])] += 1\n",
        "table = [[w1, w2,cooc[(w1, w2)]] for ((w1,w2),v) in sorted(cooc.items(), key=lambda x:x[1], reverse=True)[0:10]]\n",
        "print(tabulate(table))\n"
      ],
      "metadata": {
        "colab": {
          "base_uri": "https://localhost:8080/"
        },
        "id": "Lt2xilSC8wmv",
        "outputId": "2afc5137-3255-4ff4-d61c-0341f013c85f"
      },
      "execution_count": 35,
      "outputs": [
        {
          "output_type": "stream",
          "name": "stdout",
          "text": [
            "----  ---  --\n",
            "I     am   88\n",
            "in    the  86\n",
            "are   you  81\n",
            "have  a    80\n",
            "to    be   77\n",
            "want  to   77\n",
            "will  be   76\n",
            "in    a    74\n",
            ".     .    73\n",
            "you   are  70\n",
            "----  ---  --\n"
          ]
        }
      ]
    },
    {
      "cell_type": "code",
      "source": [
        ""
      ],
      "metadata": {
        "id": "H0_k4QuQDrrQ"
      },
      "execution_count": null,
      "outputs": []
    }
  ]
}